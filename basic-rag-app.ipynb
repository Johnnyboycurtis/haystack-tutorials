{
 "cells": [
  {
   "cell_type": "markdown",
   "metadata": {},
   "source": [
    "# Basic RAG Application: Introduction to Haystack\n"
   ]
  },
  {
   "cell_type": "markdown",
   "metadata": {},
   "source": [
    "## Environment Setup"
   ]
  },
  {
   "cell_type": "code",
   "execution_count": 1,
   "metadata": {},
   "outputs": [],
   "source": [
    "import pandas as pd\n",
    "pd.options.display.max_colwidth = 100\n",
    "\n",
    "from my_secrets import get_secrets"
   ]
  },
  {
   "cell_type": "code",
   "execution_count": 2,
   "metadata": {},
   "outputs": [
    {
     "data": {
      "text/plain": [
       "dict_keys(['gemini-api-key', 'pinecone-api-key', 'pinecone-index-name', 'pinecone-namespace'])"
      ]
     },
     "execution_count": 2,
     "metadata": {},
     "output_type": "execute_result"
    }
   ],
   "source": [
    "secrets = get_secrets()\n",
    "secrets.keys()"
   ]
  },
  {
   "cell_type": "code",
   "execution_count": null,
   "metadata": {},
   "outputs": [],
   "source": []
  },
  {
   "cell_type": "code",
   "execution_count": null,
   "metadata": {},
   "outputs": [],
   "source": []
  },
  {
   "cell_type": "code",
   "execution_count": 3,
   "metadata": {},
   "outputs": [],
   "source": [
    "import google.generativeai as genai\n",
    "\n",
    "genai.configure(api_key=secrets['gemini-api-key'])"
   ]
  },
  {
   "cell_type": "code",
   "execution_count": null,
   "metadata": {},
   "outputs": [],
   "source": []
  },
  {
   "cell_type": "code",
   "execution_count": 4,
   "metadata": {},
   "outputs": [
    {
     "data": {
      "text/plain": [
       "(1000, 4)"
      ]
     },
     "execution_count": 4,
     "metadata": {},
     "output_type": "execute_result"
    }
   ],
   "source": [
    "df = pd.read_csv(\"data/refinedweb_generated_questions_v1.csv\")\n",
    "df.shape"
   ]
  },
  {
   "cell_type": "code",
   "execution_count": 5,
   "metadata": {},
   "outputs": [
    {
     "data": {
      "text/html": [
       "<div>\n",
       "<style scoped>\n",
       "    .dataframe tbody tr th:only-of-type {\n",
       "        vertical-align: middle;\n",
       "    }\n",
       "\n",
       "    .dataframe tbody tr th {\n",
       "        vertical-align: top;\n",
       "    }\n",
       "\n",
       "    .dataframe thead th {\n",
       "        text-align: right;\n",
       "    }\n",
       "</style>\n",
       "<table border=\"1\" class=\"dataframe\">\n",
       "  <thead>\n",
       "    <tr style=\"text-align: right;\">\n",
       "      <th></th>\n",
       "      <th>document_id</th>\n",
       "      <th>documnet_text</th>\n",
       "      <th>generated_question</th>\n",
       "      <th>generated_answer</th>\n",
       "    </tr>\n",
       "  </thead>\n",
       "  <tbody>\n",
       "    <tr>\n",
       "      <th>0</th>\n",
       "      <td>c0ac42a1-ecf9-5778-a3e2-b90382b6b4d7_0</td>\n",
       "      <td>Jeet Thayil's 'Narcopolis', nominated to the Man Booker longlist, highlights many aspects of Mum...</td>\n",
       "      <td>What is the setting timeframe of Jeet Thayil's 'Narcopolis'?</td>\n",
       "      <td>Mumbai in the 1970s, 80s, and 90s</td>\n",
       "    </tr>\n",
       "    <tr>\n",
       "      <th>1</th>\n",
       "      <td>bd61923c-3652-550f-8ef9-88337e291335_0</td>\n",
       "      <td>Scrum Techniques for Cross-Team Collaboration &amp; Communication\\nKelley Bevans, Information Techno...</td>\n",
       "      <td>What is Scrum commonly used for in the tech industry?</td>\n",
       "      <td>Scrum is widely used in software development, consulting, and delivery.</td>\n",
       "    </tr>\n",
       "    <tr>\n",
       "      <th>2</th>\n",
       "      <td>5172c01b-2575-5a67-9f23-4cd823be1462_0</td>\n",
       "      <td>e: 1. A transcendental constant with a value of 2.71828182846... represented by the letter e, fo...</td>\n",
       "      <td>What is the value of the mathematical constant e?</td>\n",
       "      <td>2.71828182846...</td>\n",
       "    </tr>\n",
       "    <tr>\n",
       "      <th>3</th>\n",
       "      <td>cea499c9-c1a1-57f8-8984-30dd891dffd3_0</td>\n",
       "      <td>Pan's Labyrinth: The Mythic Psyche Unveiled\\nWhat follows is my initial review of the movie - I ...</td>\n",
       "      <td>What is the setting of Guillermo Del Toro's film Pan's Labyrinth?</td>\n",
       "      <td>Franco's Spain of the 1940s</td>\n",
       "    </tr>\n",
       "    <tr>\n",
       "      <th>4</th>\n",
       "      <td>f0c87da0-ba5e-5d78-b782-273e55ca5ed8_0</td>\n",
       "      <td>Vaikunda Ekadasi Uthsavam was celebrated grandly at Sri Parameswara Vinnagaram Divya Desams in K...</td>\n",
       "      <td>What is the name of the deity in the Velukkai Azhagiya Singar Temple who is in a sitting posture...</td>\n",
       "      <td>Azhagiya Singar</td>\n",
       "    </tr>\n",
       "  </tbody>\n",
       "</table>\n",
       "</div>"
      ],
      "text/plain": [
       "                              document_id  \\\n",
       "0  c0ac42a1-ecf9-5778-a3e2-b90382b6b4d7_0   \n",
       "1  bd61923c-3652-550f-8ef9-88337e291335_0   \n",
       "2  5172c01b-2575-5a67-9f23-4cd823be1462_0   \n",
       "3  cea499c9-c1a1-57f8-8984-30dd891dffd3_0   \n",
       "4  f0c87da0-ba5e-5d78-b782-273e55ca5ed8_0   \n",
       "\n",
       "                                                                                         documnet_text  \\\n",
       "0  Jeet Thayil's 'Narcopolis', nominated to the Man Booker longlist, highlights many aspects of Mum...   \n",
       "1  Scrum Techniques for Cross-Team Collaboration & Communication\\nKelley Bevans, Information Techno...   \n",
       "2  e: 1. A transcendental constant with a value of 2.71828182846... represented by the letter e, fo...   \n",
       "3  Pan's Labyrinth: The Mythic Psyche Unveiled\\nWhat follows is my initial review of the movie - I ...   \n",
       "4  Vaikunda Ekadasi Uthsavam was celebrated grandly at Sri Parameswara Vinnagaram Divya Desams in K...   \n",
       "\n",
       "                                                                                    generated_question  \\\n",
       "0                                         What is the setting timeframe of Jeet Thayil's 'Narcopolis'?   \n",
       "1                                                What is Scrum commonly used for in the tech industry?   \n",
       "2                                                    What is the value of the mathematical constant e?   \n",
       "3                                    What is the setting of Guillermo Del Toro's film Pan's Labyrinth?   \n",
       "4  What is the name of the deity in the Velukkai Azhagiya Singar Temple who is in a sitting posture...   \n",
       "\n",
       "                                                          generated_answer  \n",
       "0                                        Mumbai in the 1970s, 80s, and 90s  \n",
       "1  Scrum is widely used in software development, consulting, and delivery.  \n",
       "2                                                         2.71828182846...  \n",
       "3                                              Franco's Spain of the 1940s  \n",
       "4                                                          Azhagiya Singar  "
      ]
     },
     "execution_count": 5,
     "metadata": {},
     "output_type": "execute_result"
    }
   ],
   "source": [
    "df.head()"
   ]
  },
  {
   "cell_type": "code",
   "execution_count": 6,
   "metadata": {},
   "outputs": [
    {
     "name": "stdout",
     "output_type": "stream",
     "text": [
      "What animal inspired scientists to develop a sound-dampening technology for use in wind turbines, airplane wings, and computer fans?\n",
      "Owls\n"
     ]
    }
   ],
   "source": [
    "random_sample = df.sample(n=1, random_state=12)\n",
    "#print(random_sample)\n",
    "question = random_sample['generated_question'].values[0]\n",
    "answer = random_sample['generated_answer'].values[0]\n",
    "print(question)\n",
    "print(answer)"
   ]
  },
  {
   "cell_type": "code",
   "execution_count": 7,
   "metadata": {},
   "outputs": [
    {
     "data": {
      "text/plain": [
       "'Owl-Inspired sound-minimization technology\\nPicture source: creative commons\\nHighlight: “As they swoop down on mice at night, the prey have no idea what’s coming. This is because owls are the experts of silent flight. By studying how the birds manage this stealthy feat, scientists have developed a sound-dampening technology that could be used to coat wind turbines, airplane wings, and even the fans of computers, to make them quieter.”\\nInsight: Sound is an omnipresent pollution in modern society. While we tend to forget about it, people living in cities especially are constantly exposed to sounds of various intensity and long exposures have been linked to several health impacts.\\nA lot of these sounds come from rotating parts and more precisely blades. It is surprising that the practice of design replication is common in the industrial business world even though it may not be the best. Most blades follow the same basic design without much customization when in fact it is obvious that greater energy gains and side benefits can be achieved through adaptive innovation.\\nAs a case study the aeronautic industry has achieved good results in recent years in sound reduction and fuel consumption through measures which includes a simple redesign of their engines blades. Sometimes the greatest improvements come from the least expected systems parts……'"
      ]
     },
     "execution_count": 7,
     "metadata": {},
     "output_type": "execute_result"
    }
   ],
   "source": [
    "document_text = random_sample['documnet_text'].values[0]\n",
    "document_text"
   ]
  },
  {
   "cell_type": "code",
   "execution_count": 8,
   "metadata": {},
   "outputs": [
    {
     "name": "stdout",
     "output_type": "stream",
     "text": [
      "The **bowhead whale** inspired the development of sound-dampening technology for wind turbines, airplane wings, and computer fans.  Their baleen plates have unique structures that reduce the noise they generate while feeding.  Scientists studied these structures to develop similar designs for reducing noise in other applications.\n",
      "\n"
     ]
    }
   ],
   "source": [
    "model = genai.GenerativeModel(\"gemini-1.5-flash\")\n",
    "response = model.generate_content(question)\n",
    "print(response.text)"
   ]
  },
  {
   "cell_type": "code",
   "execution_count": null,
   "metadata": {},
   "outputs": [],
   "source": []
  },
  {
   "cell_type": "markdown",
   "metadata": {},
   "source": [
    "## LLMs have limited knowledge and context\n",
    "\n",
    "We use RAG to fill in gaps in knowledge for LLMs.\n",
    "\n",
    "- [YouTube: What is RAG?](https://youtu.be/T-D1OfcDW1M?si=urS82tLAScxvvLRu) - Approx. 6 minutes\n",
    "\n",
    "- [YouTube: How to use Retrieval Augmented Generation (RAG)](https://youtu.be/oVtlp72f9NQ?si=0BY_OLVczQ_ukw3f) - Approx. 7 minutes\n",
    "\n",
    "- [YouTube: Advanced RAG techniques for developers](https://youtu.be/sGvXO7CVwc0?si=TXExECFC7LsuBrNC)\n",
    "\n",
    "\n",
    "![rag-pipeline](rag-pipeline.jpeg)\n",
    "\n",
    "## Pinecone Document Store\n",
    "\n",
    "To install `pip install haystack-ai pinecone-haystack google-ai-haystack`\n",
    "`\n",
    "\n",
    "[Pinecone Document Store Documentation](https://docs.haystack.deepset.ai/reference/integrations-pinecone)\n",
    "\n",
    "## Embeddings Model\n",
    "\n",
    "[sentence-transformers/all-mpnet-base-v2](https://huggingface.co/sentence-transformers/all-mpnet-base-v2)"
   ]
  },
  {
   "cell_type": "code",
   "execution_count": 9,
   "metadata": {},
   "outputs": [],
   "source": [
    "## Downloading the embeddings model\n",
    "\n",
    "# from sentence_transformers import SentenceTransformer\n",
    "\n",
    "# model = SentenceTransformer(\"sentence-transformers/all-mpnet-base-v2\", cache_folder=\"sbert_models\")\n",
    "\n",
    "# model.save_pretrained(path=\"sbert_models/all-mpnet-base-v2\", model_name=\"all-mpnet-base-v2\")"
   ]
  },
  {
   "cell_type": "code",
   "execution_count": 10,
   "metadata": {},
   "outputs": [],
   "source": [
    "## Importing the embeddings model\n",
    "\n",
    "# from haystack import Document\n",
    "# from haystack.components.embedders import SentenceTransformersDocumentEmbedder\n",
    "# doc = Document(content=\"I love pizza!\")\n",
    "# doc_embedder = SentenceTransformersDocumentEmbedder(model=\"sbert_models/all-mpnet-base-v2\")\n",
    "# doc_embedder.warm_up()\n",
    "\n",
    "# result = doc_embedder.run([doc])\n",
    "# print(result['documents'][0].embedding)\n",
    "# print(len(result['documents'][0].embedding))\n",
    "\n",
    "# # 768 "
   ]
  },
  {
   "cell_type": "code",
   "execution_count": 11,
   "metadata": {},
   "outputs": [
    {
     "name": "stderr",
     "output_type": "stream",
     "text": [
      "/home/jonathan/miniconda3/envs/demo_chat/lib/python3.11/site-packages/haystack/core/errors.py:34: DeprecationWarning: PipelineMaxLoops is deprecated and will be remove in version '2.7.0'; use PipelineMaxComponentRuns instead.\n",
      "  warnings.warn(\n",
      "/home/jonathan/miniconda3/envs/demo_chat/lib/python3.11/site-packages/torch/cuda/__init__.py:129: UserWarning: CUDA initialization: CUDA unknown error - this may be due to an incorrectly set up environment, e.g. changing env variable CUDA_VISIBLE_DEVICES after program start. Setting the available devices to be zero. (Triggered internally at ../c10/cuda/CUDAFunctions.cpp:108.)\n",
      "  return torch._C._cuda_getDeviceCount() > 0\n"
     ]
    }
   ],
   "source": [
    "from haystack.utils import Secret\n",
    "\n",
    "from haystack.document_stores.types import DuplicatePolicy\n",
    "from haystack import Document\n",
    "from haystack import Pipeline\n",
    "from haystack.components.embedders import SentenceTransformersTextEmbedder, SentenceTransformersDocumentEmbedder\n",
    "from haystack_integrations.components.retrievers.pinecone import PineconeEmbeddingRetriever\n",
    "from haystack_integrations.document_stores.pinecone import PineconeDocumentStore\n",
    "\n"
   ]
  },
  {
   "cell_type": "code",
   "execution_count": 12,
   "metadata": {},
   "outputs": [],
   "source": [
    "def row_to_doc(row):\n",
    "    return Document(content=row['documnet_text'], id = row['document_id'])"
   ]
  },
  {
   "cell_type": "code",
   "execution_count": 13,
   "metadata": {},
   "outputs": [
    {
     "data": {
      "text/plain": [
       "Document(id=c0ac42a1-ecf9-5778-a3e2-b90382b6b4d7_0, content: 'Jeet Thayil's 'Narcopolis', nominated to the Man Booker longlist, highlights many aspects of Mumbai'...')"
      ]
     },
     "execution_count": 13,
     "metadata": {},
     "output_type": "execute_result"
    }
   ],
   "source": [
    "documents = df.apply(row_to_doc, axis=1).tolist()\n",
    "documents[0]"
   ]
  },
  {
   "cell_type": "code",
   "execution_count": 14,
   "metadata": {},
   "outputs": [],
   "source": [
    "## Define Document Store and Embedder\n",
    "document_store = PineconeDocumentStore(\n",
    "    index=\"udemy\", namespace=\"basic_rag\", \n",
    "    dimension=768, \n",
    "    api_key=Secret.from_token(secrets['pinecone-api-key']), \n",
    "    metric='cosine'\n",
    "    )\n",
    "\n",
    "document_embedder = SentenceTransformersDocumentEmbedder(model=\"sbert_models/all-mpnet-base-v2\", progress_bar=True)\n",
    "document_embedder.warm_up()"
   ]
  },
  {
   "cell_type": "code",
   "execution_count": 15,
   "metadata": {},
   "outputs": [
    {
     "data": {
      "application/vnd.jupyter.widget-view+json": {
       "model_id": "e0daacc16e694c86ad37ddcef5d6fe6b",
       "version_major": 2,
       "version_minor": 0
      },
      "text/plain": [
       "Batches:   0%|          | 0/1 [00:00<?, ?it/s]"
      ]
     },
     "metadata": {},
     "output_type": "display_data"
    }
   ],
   "source": [
    "## Embed Documents\n",
    "documents_with_embeddings = document_embedder.run(documents[:4]) # I've pre-uploaded so only doing 4 as a demo\n"
   ]
  },
  {
   "cell_type": "code",
   "execution_count": 16,
   "metadata": {},
   "outputs": [
    {
     "data": {
      "application/vnd.jupyter.widget-view+json": {
       "model_id": "675c87bf3c2243e6b31a343e7377bb96",
       "version_major": 2,
       "version_minor": 0
      },
      "text/plain": [
       "Upserted vectors:   0%|          | 0/4 [00:00<?, ?it/s]"
      ]
     },
     "metadata": {},
     "output_type": "display_data"
    },
    {
     "data": {
      "text/plain": [
       "4"
      ]
     },
     "execution_count": 16,
     "metadata": {},
     "output_type": "execute_result"
    }
   ],
   "source": [
    "## Upsert to Pinecone\n",
    "document_store.write_documents(documents_with_embeddings.get(\"documents\"), policy=DuplicatePolicy.OVERWRITE)"
   ]
  },
  {
   "cell_type": "markdown",
   "metadata": {},
   "source": [
    "## Test the Retriever"
   ]
  },
  {
   "cell_type": "code",
   "execution_count": 17,
   "metadata": {},
   "outputs": [],
   "source": [
    "query_pipeline = Pipeline()\n",
    "query_pipeline.add_component(\"text_embedder\", SentenceTransformersTextEmbedder(model=\"sbert_models/all-mpnet-base-v2\", progress_bar=False))\n",
    "query_pipeline.add_component(\"retriever\", PineconeEmbeddingRetriever(document_store=document_store, top_k=10))\n",
    "query_pipeline.connect(\"text_embedder.embedding\", \"retriever.query_embedding\")\n",
    "\n",
    "query = \"What animal inspired scientists to develop a sound-dampening technology for use in wind turbines, airplane wings, and computer fans?\"\n",
    "\n",
    "search_results = query_pipeline.run({\"text_embedder\": {\"text\": query}})"
   ]
  },
  {
   "cell_type": "code",
   "execution_count": 18,
   "metadata": {},
   "outputs": [],
   "source": [
    "assert search_results['retriever']['documents'][0].content == document_text"
   ]
  },
  {
   "cell_type": "code",
   "execution_count": 19,
   "metadata": {},
   "outputs": [
    {
     "data": {
      "text/plain": [
       "'Owl-Inspired sound-minimization technology\\nPicture source: creative commons\\nHighlight: “As they swoop down on mice at night, the prey have no idea what’s coming. This is because owls are the experts of silent flight. By studying how the birds manage this stealthy feat, scientists have developed a sound-dampening technology that could be used to coat wind turbines, airplane wings, and even the fans of computers, to make them quieter.”\\nInsight: Sound is an omnipresent pollution in modern society. While we tend to forget about it, people living in cities especially are constantly exposed to sounds of various intensity and long exposures have been linked to several health impacts.\\nA lot of these sounds come from rotating parts and more precisely blades. It is surprising that the practice of design replication is common in the industrial business world even though it may not be the best. Most blades follow the same basic design without much customization when in fact it is obvious that greater energy gains and side benefits can be achieved through adaptive innovation.\\nAs a case study the aeronautic industry has achieved good results in recent years in sound reduction and fuel consumption through measures which includes a simple redesign of their engines blades. Sometimes the greatest improvements come from the least expected systems parts……'"
      ]
     },
     "execution_count": 19,
     "metadata": {},
     "output_type": "execute_result"
    }
   ],
   "source": [
    "search_results['retriever']['documents'][0].content"
   ]
  },
  {
   "cell_type": "code",
   "execution_count": null,
   "metadata": {},
   "outputs": [],
   "source": []
  },
  {
   "cell_type": "markdown",
   "metadata": {},
   "source": [
    "## Build the RAG Pipeline"
   ]
  },
  {
   "cell_type": "code",
   "execution_count": 20,
   "metadata": {},
   "outputs": [],
   "source": [
    "from haystack.components.builders import PromptBuilder\n",
    "\n",
    "template = \"\"\"\n",
    "Given the following information, answer the question.\n",
    "\n",
    "Context:\n",
    "{% for document in documents %}\n",
    "    {{ document.content }}\n",
    "{% endfor %}\n",
    "\n",
    "Question: {{question}}\n",
    "Answer:\n",
    "\"\"\"\n",
    "\n",
    "prompt_builder = PromptBuilder(template=template)\n"
   ]
  },
  {
   "cell_type": "code",
   "execution_count": 21,
   "metadata": {},
   "outputs": [],
   "source": [
    "from haystack_integrations.components.generators.google_ai import GoogleAIGeminiGenerator\n",
    "\n",
    "gemini = GoogleAIGeminiGenerator(\n",
    "    model=\"gemini-1.5-flash\", \n",
    "    api_key=Secret.from_token(secrets['gemini-api-key'])\n",
    "    )"
   ]
  },
  {
   "cell_type": "code",
   "execution_count": 22,
   "metadata": {},
   "outputs": [],
   "source": [
    "text_embedder = SentenceTransformersTextEmbedder(model=\"sbert_models/all-mpnet-base-v2\")"
   ]
  },
  {
   "cell_type": "code",
   "execution_count": 23,
   "metadata": {},
   "outputs": [
    {
     "data": {
      "text/plain": [
       "<haystack.core.pipeline.pipeline.Pipeline object at 0x7d173c592350>\n",
       "🚅 Components\n",
       "  - text_embedder: SentenceTransformersTextEmbedder\n",
       "  - retriever: PineconeEmbeddingRetriever\n",
       "  - prompt_builder: PromptBuilder\n",
       "  - llm: GoogleAIGeminiGenerator\n",
       "🛤️ Connections\n",
       "  - text_embedder.embedding -> retriever.query_embedding (List[float])\n",
       "  - retriever.documents -> prompt_builder.documents (List[Document])\n",
       "  - prompt_builder.prompt -> llm.parts (str)"
      ]
     },
     "execution_count": 23,
     "metadata": {},
     "output_type": "execute_result"
    }
   ],
   "source": [
    "## initialize the pipeline\n",
    "basic_rag_pipeline = Pipeline()\n",
    "\n",
    "\n",
    "## add components to the pipline\n",
    "basic_rag_pipeline.add_component(\"text_embedder\", text_embedder)\n",
    "basic_rag_pipeline.add_component(\"retriever\", PineconeEmbeddingRetriever(document_store=document_store, top_k=20))\n",
    "basic_rag_pipeline.add_component(\"prompt_builder\", prompt_builder)\n",
    "basic_rag_pipeline.add_component(\"llm\", gemini)\n",
    "\n",
    "\n",
    "## Connect the components\n",
    "# Now, connect the components to each other\n",
    "basic_rag_pipeline.connect(\"text_embedder.embedding\", \"retriever.query_embedding\")\n",
    "basic_rag_pipeline.connect(\"retriever\", \"prompt_builder.documents\")\n",
    "basic_rag_pipeline.connect(\"prompt_builder\", \"llm\")\n",
    "\n",
    "\n"
   ]
  },
  {
   "cell_type": "code",
   "execution_count": 24,
   "metadata": {},
   "outputs": [
    {
     "data": {
      "text/plain": [
       "'What animal inspired scientists to develop a sound-dampening technology for use in wind turbines, airplane wings, and computer fans?'"
      ]
     },
     "execution_count": 24,
     "metadata": {},
     "output_type": "execute_result"
    }
   ],
   "source": [
    "question"
   ]
  },
  {
   "cell_type": "code",
   "execution_count": 25,
   "metadata": {},
   "outputs": [
    {
     "data": {
      "application/vnd.jupyter.widget-view+json": {
       "model_id": "e71e73ea28d945deb482a74d6c5608aa",
       "version_major": 2,
       "version_minor": 0
      },
      "text/plain": [
       "Batches:   0%|          | 0/1 [00:00<?, ?it/s]"
      ]
     },
     "metadata": {},
     "output_type": "display_data"
    }
   ],
   "source": [
    "response = basic_rag_pipeline.run({\"text_embedder\": {\"text\": question}, \"prompt_builder\": {\"question\": question}})"
   ]
  },
  {
   "cell_type": "code",
   "execution_count": 26,
   "metadata": {},
   "outputs": [
    {
     "name": "stdout",
     "output_type": "stream",
     "text": [
      "Owls.\n",
      "\n"
     ]
    }
   ],
   "source": [
    "print(response['llm']['replies'][0])"
   ]
  },
  {
   "cell_type": "code",
   "execution_count": null,
   "metadata": {},
   "outputs": [],
   "source": []
  },
  {
   "cell_type": "code",
   "execution_count": 27,
   "metadata": {},
   "outputs": [
    {
     "data": {
      "image/png": "[encoded data removed]",
      "text/plain": [
       "<IPython.core.display.Image object>"
      ]
     },
     "metadata": {},
     "output_type": "display_data"
    }
   ],
   "source": [
    "basic_rag_pipeline.show()"
   ]
  },
  {
   "cell_type": "code",
   "execution_count": null,
   "metadata": {},
   "outputs": [],
   "source": []
  }
 ],
 "metadata": {
  "kernelspec": {
   "display_name": "demo_chat",
   "language": "python",
   "name": "python3"
  },
  "language_info": {
   "codemirror_mode": {
    "name": "ipython",
    "version": 3
   },
   "file_extension": ".py",
   "mimetype": "text/x-python",
   "name": "python",
   "nbconvert_exporter": "python",
   "pygments_lexer": "ipython3",
   "version": "3.11.10"
  }
 },
 "nbformat": 4,
 "nbformat_minor": 2
}
